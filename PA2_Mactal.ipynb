{
 "cells": [
  {
   "cell_type": "markdown",
   "id": "3a29d9e3-6294-4f32-ad76-6d52c95c4f43",
   "metadata": {},
   "source": [
    "##### Problem 01"
   ]
  },
  {
   "cell_type": "code",
   "execution_count": 12,
   "id": "70391a6d-c9ad-4d69-9dc3-482c79cd0cf6",
   "metadata": {},
   "outputs": [],
   "source": [
    "# Loads the NumPhy library to this program.\n",
    "import numpy as np\n",
    " \n",
    "X = np.random.random((5,5))\n",
    "# Calculates for the value mean of the array\n",
    "mean = X.mean()\n",
    "# Calculates for the standard deviation of the array\n",
    "std_dev = X.std()\n",
    "\n",
    "# Calculates for the normalized value of the array\n",
    "X_Normalized = ( X - mean ) / std_dev\n",
    "\n",
    "# Saves the normalized value to a file\n",
    "np.save(\"X_normalized.npy\", X_Normalized)"
   ]
  },
  {
   "cell_type": "code",
   "execution_count": 2,
   "id": "0538c54a-1956-4ece-a486-557478260eae",
   "metadata": {},
   "outputs": [],
   "source": [
    "# The purpose of this code block is to ensure that the code block is of without error.\n",
    "\n",
    "print (\"Original Value: \\n\", X, \"\\n\")\n",
    "print (\"Mean of X: \\n\", mean, \"\\n\")\n",
    "print (\"Standard Deviation of X: \\n\", std_dev, \"\\n\")\n",
    "print (\"Normalized Value of X: \\n\", X_Normalized,\"\\n\")"
   ]
  },
  {
   "cell_type": "markdown",
   "id": "4cab94b1-daaf-48b6-9ee4-2b1412376cd7",
   "metadata": {},
   "source": [
    "##### Problem 02"
   ]
  },
  {
   "cell_type": "code",
   "execution_count": 8,
   "id": "a6174b6c-32d1-4645-a040-522c515adeaa",
   "metadata": {},
   "outputs": [],
   "source": [
    "# Loads the NumPhy library to this program\n",
    "import numpy as np\n",
    "\n",
    "# Generates the square of the first 100 positive integers\n",
    "sqr_n = np.arange (1,101)**2\n",
    "# Reshapes the sqr_n (1D array) to a 2D array with a shape of 10x10\n",
    "A = sqr_n.reshape (10,10)\n",
    "# Gets all the integers that are divisible by 3\n",
    "div_by_3 = A[A % 3 == 0]\n",
    "\n",
    "# Saves the integers divisible by 3 to a file\n",
    "np.save(\"div_by_3.npy\", div_by_3)"
   ]
  },
  {
   "cell_type": "code",
   "execution_count": 13,
   "id": "8080e99b-4d8a-4946-9ad1-c3e120e4e868",
   "metadata": {},
   "outputs": [],
   "source": [
    "# The purpose of this code block is to ensure that the code block is of without error.\n",
    "\n",
    "print (\"Squares of the First 100 Positive Integers \\n:\", A, \"\\n\")\n",
    "print (\"Squares of the Integers Divisible by 3 \\n:\", div_by_3, \"\\n\")"
   ]
  }
 ],
 "metadata": {
  "kernelspec": {
   "display_name": "Python 3 (ipykernel)",
   "language": "python",
   "name": "python3"
  },
  "language_info": {
   "codemirror_mode": {
    "name": "ipython",
    "version": 3
   },
   "file_extension": ".py",
   "mimetype": "text/x-python",
   "name": "python",
   "nbconvert_exporter": "python",
   "pygments_lexer": "ipython3",
   "version": "3.13.5"
  }
 },
 "nbformat": 4,
 "nbformat_minor": 5
}
